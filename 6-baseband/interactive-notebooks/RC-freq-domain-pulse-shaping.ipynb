{
 "cells": [
  {
   "cell_type": "code",
   "execution_count": 1,
   "metadata": {},
   "outputs": [],
   "source": [
    "import numpy as np\n",
    "from scipy.signal import lfilter\n",
    "import matplotlib.pyplot as plt\n",
    "\n",
    "import os; os.sys.path.append(os.path.dirname(os.path.abspath('.')))\n",
    "import impulse_responses as IR"
   ]
  },
  {
   "cell_type": "markdown",
   "metadata": {},
   "source": [
    "Go ahead and change the bitstream below! That's where the learning comes in."
   ]
  },
  {
   "cell_type": "code",
   "execution_count": 2,
   "metadata": {},
   "outputs": [],
   "source": [
    "# First set simulation frequencies and a bitstream\n",
    "samp_rate = 100\n",
    "symbol_rate = 1\n",
    "bits=np.array([1,1,0,0,0,1,0,1])\n",
    "num_periods=6 # from -3T to 3T\n",
    "beta=0 # an ideal (although in this case truncated) filter"
   ]
  },
  {
   "cell_type": "code",
   "execution_count": 3,
   "metadata": {},
   "outputs": [],
   "source": [
    "# make the bits range from -1 to 1 instead of 0 to 1\n",
    "bits=2*bits-1"
   ]
  },
  {
   "cell_type": "code",
   "execution_count": 4,
   "metadata": {},
   "outputs": [],
   "source": [
    "# Create a stream of impulses separated by T (in time) and fsT-1 (in samples)\n",
    "impulses = np.zeros(len(bits)*samp_rate//symbol_rate)\n",
    "impulses[::samp_rate//symbol_rate]=bits\n",
    "# Append some zeros in order to let the filter \"finish\"\n",
    "impulses=np.append(impulses,np.zeros(5*samp_rate//symbol_rate))"
   ]
  },
  {
   "cell_type": "code",
   "execution_count": 5,
   "metadata": {},
   "outputs": [],
   "source": [
    "# Create the sinc shape\n",
    "RC2_pulse, Tarr = IR.RC_freq_domain(symbol_rate,samp_rate,num_periods,beta)"
   ]
  },
  {
   "cell_type": "code",
   "execution_count": 6,
   "metadata": {
    "lines_to_next_cell": 2
   },
   "outputs": [],
   "source": [
    "# Convolve the sinc shape with the stream of impulses\n",
    "filtered=lfilter(RC2_pulse,1,impulses)"
   ]
  },
  {
   "cell_type": "code",
   "execution_count": 7,
   "metadata": {},
   "outputs": [],
   "source": [
    "# Make T arrays for each waveform\n",
    "impulses_Ts= np.arange(0,len(impulses)/(samp_rate//symbol_rate),samp_rate**-1)\n",
    "filtered_Ts = np.arange(0,len(filtered)/(samp_rate//symbol_rate),samp_rate**-1)"
   ]
  },
  {
   "cell_type": "code",
   "execution_count": 9,
   "metadata": {
    "lines_to_next_cell": 2
   },
   "outputs": [
    {
     "data": {
      "image/png": "[encoded data removed]",
      "text/plain": [
       "<Figure size 432x288 with 1 Axes>"
      ]
     },
     "metadata": {
      "needs_background": "light"
     },
     "output_type": "display_data"
    }
   ],
   "source": [
    "# Plot everything in case you're interested\n",
    "plt.plot(impulses_Ts,impulses)\n",
    "plt.plot(filtered_Ts,filtered)\n",
    "plt.xlabel(\"Time (T)\")\n",
    "plt.show()"
   ]
  },
  {
   "cell_type": "code",
   "execution_count": null,
   "metadata": {},
   "outputs": [],
   "source": []
  }
 ],
 "metadata": {
  "jupytext": {
   "cell_metadata_filter": "-all",
   "main_language": "python",
   "notebook_metadata_filter": "-all"
  },
  "kernelspec": {
   "display_name": "Python 3",
   "language": "python",
   "name": "python3"
  },
  "language_info": {
   "codemirror_mode": {
    "name": "ipython",
    "version": 3
   },
   "file_extension": ".py",
   "mimetype": "text/x-python",
   "name": "python",
   "nbconvert_exporter": "python",
   "pygments_lexer": "ipython3",
   "version": "3.7.8"
  }
 },
 "nbformat": 4,
 "nbformat_minor": 4
}
